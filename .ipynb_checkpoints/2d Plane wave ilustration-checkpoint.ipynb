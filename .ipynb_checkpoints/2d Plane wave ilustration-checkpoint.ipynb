{
 "cells": [
  {
   "cell_type": "code",
   "execution_count": 1,
   "id": "b737e42d",
   "metadata": {},
   "outputs": [],
   "source": [
    "import matplotlib.pyplot as plt\n",
    "import numpy as np"
   ]
  },
  {
   "cell_type": "code",
   "execution_count": 22,
   "id": "bfab3662",
   "metadata": {},
   "outputs": [],
   "source": [
    "_lambda = 3\n",
    "cmap = 'binary'"
   ]
  },
  {
   "cell_type": "code",
   "execution_count": 23,
   "id": "250ec8b1",
   "metadata": {},
   "outputs": [],
   "source": [
    "def mk_wave_angle(theta_deg, _lambda):\n",
    "    theta = np.deg2rad(theta_deg)\n",
    "    x = np.linspace(0, 10, 1000)\n",
    "    xx, yy = np.meshgrid(x, x)\n",
    "    \n",
    "    k = np.array([np.cos(theta), np.sin(theta)]) * 2*np.pi/(_lambda)\n",
    "    z = np.sin(k[0] * xx + k[1]*yy)\n",
    "    return z, x\n",
    "\n",
    "def plot_wave(theta_deg, _lambda):\n",
    "    z, x = mk_wave_angle(theta_deg, _lambda)\n",
    "    fig, ax = plt.subplots()\n",
    "    ax.axis('off')\n",
    "    plt.ylim([0, 400])\n",
    "    plt.imshow(z, cmap=cmap, alpha=0.5)"
   ]
  },
  {
   "cell_type": "code",
   "execution_count": 24,
   "id": "86974c17",
   "metadata": {},
   "outputs": [
    {
     "data": {
      "image/png": "[encoded data removed]",
      "text/plain": [
       "<Figure size 432x288 with 1 Axes>"
      ]
     },
     "metadata": {
      "needs_background": "light"
     },
     "output_type": "display_data"
    }
   ],
   "source": [
    "plot_wave(0, _lambda)"
   ]
  },
  {
   "cell_type": "code",
   "execution_count": 25,
   "id": "4c578eb9",
   "metadata": {},
   "outputs": [
    {
     "data": {
      "image/png": "[encoded data removed]",
      "text/plain": [
       "<Figure size 432x288 with 1 Axes>"
      ]
     },
     "metadata": {
      "needs_background": "light"
     },
     "output_type": "display_data"
    }
   ],
   "source": [
    "plot_wave(-45, _lambda)"
   ]
  },
  {
   "cell_type": "code",
   "execution_count": 26,
   "id": "36aa008b",
   "metadata": {},
   "outputs": [
    {
     "data": {
      "image/png": "[encoded data removed]",
      "text/plain": [
       "<Figure size 432x288 with 1 Axes>"
      ]
     },
     "metadata": {
      "needs_background": "light"
     },
     "output_type": "display_data"
    }
   ],
   "source": [
    "plot_wave(90, _lambda)"
   ]
  },
  {
   "cell_type": "code",
   "execution_count": null,
   "id": "c0785f3c",
   "metadata": {},
   "outputs": [],
   "source": []
  },
  {
   "cell_type": "code",
   "execution_count": null,
   "id": "9ec9c357",
   "metadata": {},
   "outputs": [],
   "source": []
  }
 ],
 "metadata": {
  "kernelspec": {
   "display_name": "Python 3 (ipykernel)",
   "language": "python",
   "name": "python3"
  },
  "language_info": {
   "codemirror_mode": {
    "name": "ipython",
    "version": 3
   },
   "file_extension": ".py",
   "mimetype": "text/x-python",
   "name": "python",
   "nbconvert_exporter": "python",
   "pygments_lexer": "ipython3",
   "version": "3.7.10"
  }
 },
 "nbformat": 4,
 "nbformat_minor": 5
}
